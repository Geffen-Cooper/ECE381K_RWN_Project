{
 "cells": [
  {
   "cell_type": "code",
   "execution_count": 1,
   "metadata": {},
   "outputs": [],
   "source": [
    "import dgl\n",
    "import torch\n",
    "import dgl.data\n",
    "import networkx as nx\n",
    "import metis\n",
    "import matplotlib.pyplot as plt\n",
    "import numpy as np\n",
    "from models import *\n",
    "from train import *"
   ]
  },
  {
   "cell_type": "code",
   "execution_count": 74,
   "metadata": {},
   "outputs": [
    {
     "name": "stdout",
     "output_type": "stream",
     "text": [
      "Number of categories: 40\n"
     ]
    },
    {
     "ename": "FileNotFoundError",
     "evalue": "[Errno 2] No such file or directory: 'saved_models/best_bigGCN_arxiv_p1_k20.pth'",
     "output_type": "error",
     "traceback": [
      "\u001b[0;31m---------------------------------------------------------------------------\u001b[0m",
      "\u001b[0;31mFileNotFoundError\u001b[0m                         Traceback (most recent call last)",
      "\u001b[1;32m/home/gc28692/Projects/ECE381K_RWN_Project/src/convert.ipynb Cell 2\u001b[0m in \u001b[0;36m<cell line: 14>\u001b[0;34m()\u001b[0m\n\u001b[1;32m     <a href='vscode-notebook-cell:/home/gc28692/Projects/ECE381K_RWN_Project/src/convert.ipynb#W1sZmlsZQ%3D%3D?line=13'>14</a>\u001b[0m \u001b[39mfor\u001b[39;00m partition \u001b[39min\u001b[39;00m \u001b[39mrange\u001b[39m(k):\n\u001b[1;32m     <a href='vscode-notebook-cell:/home/gc28692/Projects/ECE381K_RWN_Project/src/convert.ipynb#W1sZmlsZQ%3D%3D?line=14'>15</a>\u001b[0m     checkpoint_path \u001b[39m=\u001b[39m \u001b[39m\"\u001b[39m\u001b[39msaved_models/best_\u001b[39m\u001b[39m\"\u001b[39m\u001b[39m+\u001b[39m\u001b[39mstr\u001b[39m(compression_rate)\u001b[39m+\u001b[39m\u001b[39mstr\u001b[39m(model)\u001b[39m+\u001b[39m\u001b[39m\"\u001b[39m\u001b[39m_\u001b[39m\u001b[39m\"\u001b[39m\u001b[39m+\u001b[39m\u001b[39mstr\u001b[39m(dataset)\u001b[39m+\u001b[39m\u001b[39m\"\u001b[39m\u001b[39m_\u001b[39m\u001b[39m\"\u001b[39m\u001b[39m+\u001b[39m\u001b[39m\"\u001b[39m\u001b[39mp\u001b[39m\u001b[39m\"\u001b[39m\u001b[39m+\u001b[39m\u001b[39mstr\u001b[39m(partition\u001b[39m+\u001b[39m\u001b[39m1\u001b[39m)\u001b[39m+\u001b[39m\u001b[39m\"\u001b[39m\u001b[39m_k\u001b[39m\u001b[39m\"\u001b[39m\u001b[39m+\u001b[39m\u001b[39mstr\u001b[39m(k)\u001b[39m+\u001b[39m\u001b[39m\"\u001b[39m\u001b[39m.pth\u001b[39m\u001b[39m\"\u001b[39m\n\u001b[0;32m---> <a href='vscode-notebook-cell:/home/gc28692/Projects/ECE381K_RWN_Project/src/convert.ipynb#W1sZmlsZQ%3D%3D?line=15'>16</a>\u001b[0m     checkpoint \u001b[39m=\u001b[39m torch\u001b[39m.\u001b[39;49mload(checkpoint_path)\n\u001b[1;32m     <a href='vscode-notebook-cell:/home/gc28692/Projects/ECE381K_RWN_Project/src/convert.ipynb#W1sZmlsZQ%3D%3D?line=17'>18</a>\u001b[0m     \u001b[39m# get the partition node ids to create the subgraph\u001b[39;00m\n\u001b[1;32m     <a href='vscode-notebook-cell:/home/gc28692/Projects/ECE381K_RWN_Project/src/convert.ipynb#W1sZmlsZQ%3D%3D?line=18'>19</a>\u001b[0m     sg_node_ids \u001b[39m=\u001b[39m checkpoint[\u001b[39m'\u001b[39m\u001b[39mnode_ids\u001b[39m\u001b[39m'\u001b[39m]\u001b[39m.\u001b[39mcpu()\n",
      "File \u001b[0;32m~/anaconda3/envs/rwn/lib/python3.9/site-packages/torch/serialization.py:699\u001b[0m, in \u001b[0;36mload\u001b[0;34m(f, map_location, pickle_module, **pickle_load_args)\u001b[0m\n\u001b[1;32m    696\u001b[0m \u001b[39mif\u001b[39;00m \u001b[39m'\u001b[39m\u001b[39mencoding\u001b[39m\u001b[39m'\u001b[39m \u001b[39mnot\u001b[39;00m \u001b[39min\u001b[39;00m pickle_load_args\u001b[39m.\u001b[39mkeys():\n\u001b[1;32m    697\u001b[0m     pickle_load_args[\u001b[39m'\u001b[39m\u001b[39mencoding\u001b[39m\u001b[39m'\u001b[39m] \u001b[39m=\u001b[39m \u001b[39m'\u001b[39m\u001b[39mutf-8\u001b[39m\u001b[39m'\u001b[39m\n\u001b[0;32m--> 699\u001b[0m \u001b[39mwith\u001b[39;00m _open_file_like(f, \u001b[39m'\u001b[39;49m\u001b[39mrb\u001b[39;49m\u001b[39m'\u001b[39;49m) \u001b[39mas\u001b[39;00m opened_file:\n\u001b[1;32m    700\u001b[0m     \u001b[39mif\u001b[39;00m _is_zipfile(opened_file):\n\u001b[1;32m    701\u001b[0m         \u001b[39m# The zipfile reader is going to advance the current file position.\u001b[39;00m\n\u001b[1;32m    702\u001b[0m         \u001b[39m# If we want to actually tail call to torch.jit.load, we need to\u001b[39;00m\n\u001b[1;32m    703\u001b[0m         \u001b[39m# reset back to the original position.\u001b[39;00m\n\u001b[1;32m    704\u001b[0m         orig_position \u001b[39m=\u001b[39m opened_file\u001b[39m.\u001b[39mtell()\n",
      "File \u001b[0;32m~/anaconda3/envs/rwn/lib/python3.9/site-packages/torch/serialization.py:230\u001b[0m, in \u001b[0;36m_open_file_like\u001b[0;34m(name_or_buffer, mode)\u001b[0m\n\u001b[1;32m    228\u001b[0m \u001b[39mdef\u001b[39;00m \u001b[39m_open_file_like\u001b[39m(name_or_buffer, mode):\n\u001b[1;32m    229\u001b[0m     \u001b[39mif\u001b[39;00m _is_path(name_or_buffer):\n\u001b[0;32m--> 230\u001b[0m         \u001b[39mreturn\u001b[39;00m _open_file(name_or_buffer, mode)\n\u001b[1;32m    231\u001b[0m     \u001b[39melse\u001b[39;00m:\n\u001b[1;32m    232\u001b[0m         \u001b[39mif\u001b[39;00m \u001b[39m'\u001b[39m\u001b[39mw\u001b[39m\u001b[39m'\u001b[39m \u001b[39min\u001b[39;00m mode:\n",
      "File \u001b[0;32m~/anaconda3/envs/rwn/lib/python3.9/site-packages/torch/serialization.py:211\u001b[0m, in \u001b[0;36m_open_file.__init__\u001b[0;34m(self, name, mode)\u001b[0m\n\u001b[1;32m    210\u001b[0m \u001b[39mdef\u001b[39;00m \u001b[39m__init__\u001b[39m(\u001b[39mself\u001b[39m, name, mode):\n\u001b[0;32m--> 211\u001b[0m     \u001b[39msuper\u001b[39m(_open_file, \u001b[39mself\u001b[39m)\u001b[39m.\u001b[39m\u001b[39m__init__\u001b[39m(\u001b[39mopen\u001b[39;49m(name, mode))\n",
      "\u001b[0;31mFileNotFoundError\u001b[0m: [Errno 2] No such file or directory: 'saved_models/best_bigGCN_arxiv_p1_k20.pth'"
     ]
    }
   ],
   "source": [
    "compression_rate = \"big\"\n",
    "model = \"GCN\"\n",
    "dataset = \"arxiv\"\n",
    "k = 20\n",
    "\n",
    "dataset_nx, dataset_dgl, data = load_dataset(dataset)\n",
    "labels = dataset_dgl.ndata['label']\n",
    "train_ids = (dataset_dgl.ndata['train_mask']==True).nonzero()\n",
    "val_ids = (dataset_dgl.ndata['val_mask']==True).nonzero()\n",
    "nx.set_node_attributes(dataset_nx,0,\"class\")\n",
    "nx.set_node_attributes(dataset_nx,5,\"set\")\n",
    "nx.set_node_attributes(dataset_nx,\"None\",\"pred\")\n",
    "\n",
    "for partition in range(k):\n",
    "    if compression_rate == \"teacher\":\n",
    "        checkpoint_path = \"saved_models/best_\"+str(model)+\"_\"+str(dataset)+\"_\"+\"p\"+str(partition+1)+\"_k\"+str(k)+\".pth\"\n",
    "    checkpoint = torch.load(checkpoint_path)\n",
    "\n",
    "    # get the partition node ids to create the subgraph\n",
    "    sg_node_ids = checkpoint['node_ids'].cpu()\n",
    "    sg_nx = dataset_nx.subgraph(sg_node_ids.tolist())\n",
    "\n",
    "    args = checkpoint['args']\n",
    "    # create a gnn for this partition using graph parameters\n",
    "    sg = dgl.node_subgraph(dataset_dgl, sg_node_ids)\n",
    "    features = sg.ndata['feat']\n",
    "    # load the model\n",
    "    m = load_student_model(args.gnn,features,data.num_classes,args.heads, args.dropout, args.compression_rate)\n",
    "    if compression_rate == \"teacher\":\n",
    "        m = load_model(args.gnn,features,data.num_classes,args.heads, args.dropout)\n",
    "    m.load_state_dict(checkpoint['model_state_dict'])\n",
    "    m.eval()\n",
    "\n",
    "    # forward pass for evaluation\n",
    "    with torch.no_grad():\n",
    "        # Forward\n",
    "        logits = m(sg, features)\n",
    "        pred = logits.argmax(1)\n",
    "\n",
    "        # store the predictions\n",
    "        # preds[sg_node_ids] = pred\n",
    "        # val = sg.ndata['val_mask']\n",
    "        # print(\"partition\",partition,\"acc:\",sum(pred[val]==sg.ndata['label'][val])/len((val==True).nonzero()))\n",
    "    # print(len(sg_node_ids))\n",
    "    pred_dict = { i.item() : str(pred[idx].item()) for idx,i in enumerate(sg_node_ids)}\n",
    "    class_dict = { i.item() : labels[i].item() for i in sg_node_ids}\n",
    "    set_dict = {}\n",
    "    for i in sg_node_ids:\n",
    "        if i in train_ids:\n",
    "            set_dict[i.item()] = 50\n",
    "        elif i in val_ids:\n",
    "            set_dict[i.item()] = 20\n",
    "        else:\n",
    "            set_dict[i.item()] = 2\n",
    "    # print(set_dict)\n",
    "    nx.set_node_attributes(sg_nx,class_dict,\"class\")\n",
    "    nx.set_node_attributes(sg_nx,set_dict,\"set\")\n",
    "    nx.set_node_attributes(sg_nx,pred_dict,\"pred\")\n",
    "    nx.write_gml(sg_nx,\"arxiv\"+str(partition)+\".gml\")\n",
    "    # print(sg_nx.nodes[14]['Label'])\n",
    "# train_dict = { i.item() : 50 for i in train_ids}\n",
    "# val_dict = { i.item() : 20 for i in val_ids}\n",
    "# nx.set_node_attributes(dataset_nx,train_dict,\"set\")\n",
    "# nx.set_node_attributes(dataset_nx,val_dict,\"set\")\n",
    "# nx.write_gml(dataset_nx,\"cora.gml\")\n"
   ]
  }
 ],
 "metadata": {
  "kernelspec": {
   "display_name": "Python 3.9.13 ('rwn')",
   "language": "python",
   "name": "python3"
  },
  "language_info": {
   "codemirror_mode": {
    "name": "ipython",
    "version": 3
   },
   "file_extension": ".py",
   "mimetype": "text/x-python",
   "name": "python",
   "nbconvert_exporter": "python",
   "pygments_lexer": "ipython3",
   "version": "3.9.13"
  },
  "orig_nbformat": 4,
  "vscode": {
   "interpreter": {
    "hash": "bb836cccf733935fd1764337262ee34c87745a1ee81a013fe4ba29a11dcb5f0c"
   }
  }
 },
 "nbformat": 4,
 "nbformat_minor": 2
}
