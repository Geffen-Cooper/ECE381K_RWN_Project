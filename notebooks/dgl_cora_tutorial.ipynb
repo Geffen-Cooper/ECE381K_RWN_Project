{
 "cells": [
  {
   "cell_type": "markdown",
   "metadata": {},
   "source": [
    "Import Libraries"
   ]
  },
  {
   "cell_type": "code",
   "execution_count": 1,
   "metadata": {},
   "outputs": [],
   "source": [
    "import dgl\n",
    "import torch\n",
    "import torch.nn as nn\n",
    "import torch.nn.functional as F\n",
    "import dgl.data\n",
    "import networkx as nx\n",
    "import metis"
   ]
  },
  {
   "cell_type": "markdown",
   "metadata": {},
   "source": [
    "Download Cora Dataset"
   ]
  },
  {
   "cell_type": "code",
   "execution_count": 2,
   "metadata": {},
   "outputs": [
    {
     "name": "stdout",
     "output_type": "stream",
     "text": [
      "  NumNodes: 2708\n",
      "  NumEdges: 10556\n",
      "  NumFeats: 1433\n",
      "  NumClasses: 7\n",
      "  NumTrainingSamples: 140\n",
      "  NumValidationSamples: 500\n",
      "  NumTestSamples: 1000\n",
      "Done loading data from cached files.\n",
      "Number of categories: 7\n"
     ]
    }
   ],
   "source": [
    "dataset = dgl.data.CoraGraphDataset()\n",
    "print('Number of categories:', dataset.num_classes)"
   ]
  },
  {
   "cell_type": "markdown",
   "metadata": {},
   "source": [
    "Get the DGL graph"
   ]
  },
  {
   "cell_type": "code",
   "execution_count": 4,
   "metadata": {},
   "outputs": [],
   "source": [
    "cora_dgl = dataset[0]"
   ]
  },
  {
   "cell_type": "markdown",
   "metadata": {},
   "source": [
    "Convert to a networkx graph"
   ]
  },
  {
   "cell_type": "code",
   "execution_count": 5,
   "metadata": {},
   "outputs": [],
   "source": [
    "cora_nx = dgl.to_networkx(cora_dgl)\n",
    "# nx.write_gexf(G,\"dgl_cora.gexf\")"
   ]
  },
  {
   "cell_type": "markdown",
   "metadata": {},
   "source": [
    "Get the ids of the largest connected component"
   ]
  },
  {
   "cell_type": "code",
   "execution_count": 6,
   "metadata": {},
   "outputs": [],
   "source": [
    "components = nx.strongly_connected_components(cora_nx)\n",
    "largest_component = max(components, key=len)"
   ]
  },
  {
   "cell_type": "markdown",
   "metadata": {},
   "source": [
    "Get the ids of the disconnected nodes"
   ]
  },
  {
   "cell_type": "code",
   "execution_count": 7,
   "metadata": {},
   "outputs": [],
   "source": [
    "disconnected_nodes = torch.LongTensor(list(set(cora_nx.nodes()).difference(largest_component)))"
   ]
  },
  {
   "cell_type": "markdown",
   "metadata": {},
   "source": [
    "remove disconnected nodes from DGL graph"
   ]
  },
  {
   "cell_type": "code",
   "execution_count": 8,
   "metadata": {},
   "outputs": [
    {
     "data": {
      "text/plain": [
       "2485"
      ]
     },
     "execution_count": 8,
     "metadata": {},
     "output_type": "execute_result"
    }
   ],
   "source": [
    "cora_dgl.remove_nodes(disconnected_nodes)\n",
    "cora_dgl.num_nodes()"
   ]
  },
  {
   "cell_type": "markdown",
   "metadata": {},
   "source": [
    "Save the largest connected component"
   ]
  },
  {
   "cell_type": "code",
   "execution_count": 9,
   "metadata": {},
   "outputs": [],
   "source": [
    "cora_c_nx = dgl.to_networkx(cora_dgl)\n",
    "nx.write_gexf(cora_c_nx,\"cora_connected.gexf\")"
   ]
  },
  {
   "cell_type": "code",
   "execution_count": 10,
   "metadata": {},
   "outputs": [
    {
     "name": "stdout",
     "output_type": "stream",
     "text": [
      "Node features\n",
      "{'feat': tensor([[0., 0., 0.,  ..., 0., 0., 0.],\n",
      "        [0., 0., 0.,  ..., 0., 0., 0.],\n",
      "        [0., 0., 0.,  ..., 0., 0., 0.],\n",
      "        ...,\n",
      "        [0., 0., 0.,  ..., 0., 0., 0.],\n",
      "        [0., 0., 0.,  ..., 0., 0., 0.],\n",
      "        [0., 0., 0.,  ..., 0., 0., 0.]]), 'label': tensor([3, 4, 4,  ..., 0, 3, 3]), 'test_mask': tensor([False, False, False,  ...,  True,  True,  True]), 'val_mask': tensor([False, False, False,  ..., False, False, False]), 'train_mask': tensor([ True,  True,  True,  ..., False, False, False])}\n",
      "Edge features\n",
      "{}\n"
     ]
    }
   ],
   "source": [
    "print('Node features')\n",
    "print(cora_dgl.ndata)\n",
    "print('Edge features')\n",
    "print(cora_dgl.edata)"
   ]
  },
  {
   "cell_type": "markdown",
   "metadata": {},
   "source": [
    "METIS Partitioning"
   ]
  },
  {
   "cell_type": "code",
   "execution_count": 16,
   "metadata": {},
   "outputs": [],
   "source": [
    "_, parts = metis.part_graph(cora_c_nx,2)"
   ]
  },
  {
   "cell_type": "markdown",
   "metadata": {},
   "source": [
    "Create a dictionary that maps node ids to partition ids"
   ]
  },
  {
   "cell_type": "code",
   "execution_count": 17,
   "metadata": {},
   "outputs": [],
   "source": [
    "part_dict = {}\n",
    "for id,part_id in enumerate(parts):\n",
    "    part_dict[id] = part_id"
   ]
  },
  {
   "cell_type": "markdown",
   "metadata": {},
   "source": [
    "Label the nodes with their partition id and save to visualize in Gephi"
   ]
  },
  {
   "cell_type": "code",
   "execution_count": 18,
   "metadata": {},
   "outputs": [],
   "source": [
    "nx.set_node_attributes(cora_c_nx,part_dict,name=\"partition\")\n",
    "nx.write_gexf(cora_c_nx,\"dgl_cora_connected_parts.gexf\")"
   ]
  },
  {
   "cell_type": "markdown",
   "metadata": {},
   "source": [
    "Get node ids for each partition"
   ]
  },
  {
   "cell_type": "code",
   "execution_count": 30,
   "metadata": {},
   "outputs": [],
   "source": [
    "parts_tensor = torch.Tensor(parts)\n",
    "sg0_nodes = (parts_tensor == 0).nonzero()[:,0].tolist()\n",
    "sg1_nodes = (parts_tensor == 1).nonzero()[:,0].tolist()"
   ]
  },
  {
   "cell_type": "markdown",
   "metadata": {},
   "source": [
    "Create DGL subgraphs using partition list. This splits all the node features as well which is very conveniant"
   ]
  },
  {
   "cell_type": "code",
   "execution_count": 32,
   "metadata": {},
   "outputs": [],
   "source": [
    "sg0 = dgl.node_subgraph(cora_dgl, sg0_nodes)\n",
    "sg1 = dgl.node_subgraph(cora_dgl, sg1_nodes)"
   ]
  },
  {
   "cell_type": "code",
   "execution_count": 39,
   "metadata": {},
   "outputs": [
    {
     "name": "stdout",
     "output_type": "stream",
     "text": [
      "sg0 test: tensor(437)\n",
      "sg0 val: tensor(213)\n",
      "sg0 train: tensor(64)\n",
      "sg1 test: tensor(478)\n",
      "sg1 val: tensor(246)\n",
      "sg1 train: tensor(58)\n"
     ]
    }
   ],
   "source": [
    "print(\"sg0 test:\",sum(sg0.ndata['test_mask']==True))\n",
    "print(\"sg0 val:\",sum(sg0.ndata['val_mask']==True))\n",
    "print(\"sg0 train:\",sum(sg0.ndata['train_mask']==True))\n",
    "print(\"sg1 test:\",sum(sg1.ndata['test_mask']==True))\n",
    "print(\"sg1 val:\",sum(sg1.ndata['val_mask']==True))\n",
    "print(\"sg1 train:\",sum(sg1.ndata['train_mask']==True))"
   ]
  },
  {
   "cell_type": "code",
   "execution_count": 40,
   "metadata": {},
   "outputs": [],
   "source": [
    "from dgl.nn import GraphConv\n",
    "\n",
    "class GCN(nn.Module):\n",
    "    def __init__(self, in_feats, h_feats, num_classes):\n",
    "        super(GCN, self).__init__()\n",
    "        self.conv1 = GraphConv(in_feats, h_feats)\n",
    "        self.conv2 = GraphConv(h_feats, num_classes)\n",
    "\n",
    "    def forward(self, g, in_feat):\n",
    "        h = self.conv1(g, in_feat)\n",
    "        h = F.relu(h)\n",
    "        h = self.conv2(g, h)\n",
    "        return h"
   ]
  },
  {
   "cell_type": "code",
   "execution_count": 41,
   "metadata": {},
   "outputs": [],
   "source": [
    "def train(g, model):\n",
    "    optimizer = torch.optim.Adam(model.parameters(), lr=0.01)\n",
    "    best_val_acc = 0\n",
    "    best_test_acc = 0\n",
    "\n",
    "    features = g.ndata['feat']\n",
    "    labels = g.ndata['label']\n",
    "    train_mask = g.ndata['train_mask']\n",
    "    val_mask = g.ndata['val_mask']\n",
    "    test_mask = g.ndata['test_mask']\n",
    "    for e in range(100):\n",
    "        # Forward\n",
    "        logits = model(g, features)\n",
    "\n",
    "        # Compute prediction\n",
    "        pred = logits.argmax(1)\n",
    "\n",
    "        # Compute loss\n",
    "        # Note that you should only compute the losses of the nodes in the training set.\n",
    "        loss = F.cross_entropy(logits[train_mask], labels[train_mask])\n",
    "\n",
    "        # Compute accuracy on training/validation/test\n",
    "        train_acc = (pred[train_mask] == labels[train_mask]).float().mean()\n",
    "        val_acc = (pred[val_mask] == labels[val_mask]).float().mean()\n",
    "        test_acc = (pred[test_mask] == labels[test_mask]).float().mean()\n",
    "\n",
    "        # Save the best validation accuracy and the corresponding test accuracy.\n",
    "        if best_val_acc < val_acc:\n",
    "            best_val_acc = val_acc\n",
    "            best_test_acc = test_acc\n",
    "\n",
    "        # Backward\n",
    "        optimizer.zero_grad()\n",
    "        loss.backward()\n",
    "        optimizer.step()\n",
    "\n",
    "        if e % 5 == 0:\n",
    "            print('In epoch {}, loss: {:.3f}, val acc: {:.3f} (best {:.3f}), test acc: {:.3f} (best {:.3f})'.format(\n",
    "                e, loss, val_acc, best_val_acc, test_acc, best_test_acc))"
   ]
  },
  {
   "cell_type": "code",
   "execution_count": 45,
   "metadata": {},
   "outputs": [],
   "source": [
    "model = GCN(cora_dgl.ndata['feat'].shape[1], 16, dataset.num_classes)\n",
    "model0 = GCN(sg0.ndata['feat'].shape[1], 16, dataset.num_classes)\n",
    "model1 = GCN(sg1.ndata['feat'].shape[1], 16, dataset.num_classes)"
   ]
  },
  {
   "cell_type": "code",
   "execution_count": 46,
   "metadata": {},
   "outputs": [
    {
     "name": "stdout",
     "output_type": "stream",
     "text": [
      "In epoch 0, loss: 1.945, val acc: 0.096 (best 0.096), test acc: 0.106 (best 0.106)\n",
      "In epoch 5, loss: 1.885, val acc: 0.111 (best 0.163), test acc: 0.134 (best 0.193)\n",
      "In epoch 10, loss: 1.803, val acc: 0.251 (best 0.251), test acc: 0.277 (best 0.277)\n",
      "In epoch 15, loss: 1.702, val acc: 0.440 (best 0.440), test acc: 0.475 (best 0.475)\n",
      "In epoch 20, loss: 1.578, val acc: 0.584 (best 0.584), test acc: 0.605 (best 0.605)\n",
      "In epoch 25, loss: 1.435, val acc: 0.662 (best 0.662), test acc: 0.683 (best 0.683)\n",
      "In epoch 30, loss: 1.275, val acc: 0.693 (best 0.693), test acc: 0.702 (best 0.702)\n",
      "In epoch 35, loss: 1.107, val acc: 0.706 (best 0.706), test acc: 0.717 (best 0.717)\n",
      "In epoch 40, loss: 0.938, val acc: 0.725 (best 0.725), test acc: 0.728 (best 0.728)\n",
      "In epoch 45, loss: 0.777, val acc: 0.743 (best 0.743), test acc: 0.743 (best 0.743)\n",
      "In epoch 50, loss: 0.632, val acc: 0.763 (best 0.763), test acc: 0.755 (best 0.755)\n",
      "In epoch 55, loss: 0.508, val acc: 0.769 (best 0.769), test acc: 0.758 (best 0.760)\n",
      "In epoch 60, loss: 0.406, val acc: 0.776 (best 0.776), test acc: 0.760 (best 0.760)\n",
      "In epoch 65, loss: 0.325, val acc: 0.769 (best 0.776), test acc: 0.761 (best 0.760)\n",
      "In epoch 70, loss: 0.261, val acc: 0.767 (best 0.776), test acc: 0.760 (best 0.760)\n",
      "In epoch 75, loss: 0.212, val acc: 0.765 (best 0.776), test acc: 0.760 (best 0.760)\n",
      "In epoch 80, loss: 0.174, val acc: 0.763 (best 0.776), test acc: 0.755 (best 0.760)\n",
      "In epoch 85, loss: 0.144, val acc: 0.769 (best 0.776), test acc: 0.755 (best 0.760)\n",
      "In epoch 90, loss: 0.121, val acc: 0.769 (best 0.776), test acc: 0.755 (best 0.760)\n",
      "In epoch 95, loss: 0.102, val acc: 0.771 (best 0.776), test acc: 0.758 (best 0.760)\n"
     ]
    }
   ],
   "source": [
    "train(cora_dgl,model)"
   ]
  },
  {
   "cell_type": "code",
   "execution_count": 43,
   "metadata": {},
   "outputs": [
    {
     "name": "stdout",
     "output_type": "stream",
     "text": [
      "In epoch 0, loss: 1.945, val acc: 0.150 (best 0.150), test acc: 0.188 (best 0.188)\n",
      "In epoch 5, loss: 1.810, val acc: 0.427 (best 0.427), test acc: 0.426 (best 0.426)\n",
      "In epoch 10, loss: 1.652, val acc: 0.408 (best 0.427), test acc: 0.419 (best 0.426)\n",
      "In epoch 15, loss: 1.500, val acc: 0.399 (best 0.427), test acc: 0.416 (best 0.426)\n",
      "In epoch 20, loss: 1.359, val acc: 0.404 (best 0.427), test acc: 0.419 (best 0.426)\n",
      "In epoch 25, loss: 1.221, val acc: 0.418 (best 0.427), test acc: 0.426 (best 0.426)\n",
      "In epoch 30, loss: 1.085, val acc: 0.455 (best 0.455), test acc: 0.453 (best 0.453)\n",
      "In epoch 35, loss: 0.951, val acc: 0.484 (best 0.484), test acc: 0.478 (best 0.478)\n",
      "In epoch 40, loss: 0.822, val acc: 0.516 (best 0.516), test acc: 0.508 (best 0.508)\n",
      "In epoch 45, loss: 0.703, val acc: 0.540 (best 0.540), test acc: 0.556 (best 0.556)\n",
      "In epoch 50, loss: 0.594, val acc: 0.582 (best 0.582), test acc: 0.600 (best 0.600)\n",
      "In epoch 55, loss: 0.497, val acc: 0.615 (best 0.615), test acc: 0.627 (best 0.627)\n",
      "In epoch 60, loss: 0.414, val acc: 0.634 (best 0.634), test acc: 0.645 (best 0.645)\n",
      "In epoch 65, loss: 0.342, val acc: 0.648 (best 0.648), test acc: 0.648 (best 0.648)\n",
      "In epoch 70, loss: 0.281, val acc: 0.657 (best 0.657), test acc: 0.657 (best 0.652)\n",
      "In epoch 75, loss: 0.231, val acc: 0.676 (best 0.676), test acc: 0.668 (best 0.668)\n",
      "In epoch 80, loss: 0.189, val acc: 0.700 (best 0.700), test acc: 0.680 (best 0.680)\n",
      "In epoch 85, loss: 0.156, val acc: 0.709 (best 0.709), test acc: 0.680 (best 0.680)\n",
      "In epoch 90, loss: 0.129, val acc: 0.704 (best 0.709), test acc: 0.684 (best 0.680)\n",
      "In epoch 95, loss: 0.107, val acc: 0.704 (best 0.709), test acc: 0.689 (best 0.680)\n"
     ]
    }
   ],
   "source": [
    "train(sg0, model0)"
   ]
  },
  {
   "cell_type": "code",
   "execution_count": 44,
   "metadata": {},
   "outputs": [
    {
     "name": "stdout",
     "output_type": "stream",
     "text": [
      "In epoch 0, loss: 1.945, val acc: 0.178 (best 0.178), test acc: 0.188 (best 0.188)\n",
      "In epoch 5, loss: 1.828, val acc: 0.263 (best 0.263), test acc: 0.259 (best 0.249)\n",
      "In epoch 10, loss: 1.686, val acc: 0.329 (best 0.329), test acc: 0.307 (best 0.307)\n",
      "In epoch 15, loss: 1.538, val acc: 0.390 (best 0.390), test acc: 0.384 (best 0.384)\n",
      "In epoch 20, loss: 1.392, val acc: 0.432 (best 0.432), test acc: 0.432 (best 0.435)\n",
      "In epoch 25, loss: 1.237, val acc: 0.455 (best 0.455), test acc: 0.465 (best 0.465)\n",
      "In epoch 30, loss: 1.079, val acc: 0.535 (best 0.535), test acc: 0.506 (best 0.506)\n",
      "In epoch 35, loss: 0.920, val acc: 0.577 (best 0.577), test acc: 0.568 (best 0.568)\n",
      "In epoch 40, loss: 0.767, val acc: 0.606 (best 0.606), test acc: 0.597 (best 0.597)\n",
      "In epoch 45, loss: 0.627, val acc: 0.638 (best 0.638), test acc: 0.625 (best 0.625)\n",
      "In epoch 50, loss: 0.506, val acc: 0.667 (best 0.667), test acc: 0.670 (best 0.657)\n",
      "In epoch 55, loss: 0.405, val acc: 0.681 (best 0.681), test acc: 0.684 (best 0.673)\n",
      "In epoch 60, loss: 0.323, val acc: 0.690 (best 0.690), test acc: 0.693 (best 0.693)\n",
      "In epoch 65, loss: 0.257, val acc: 0.700 (best 0.700), test acc: 0.693 (best 0.693)\n",
      "In epoch 70, loss: 0.205, val acc: 0.700 (best 0.704), test acc: 0.696 (best 0.693)\n",
      "In epoch 75, loss: 0.164, val acc: 0.695 (best 0.704), test acc: 0.705 (best 0.693)\n",
      "In epoch 80, loss: 0.132, val acc: 0.690 (best 0.704), test acc: 0.703 (best 0.693)\n",
      "In epoch 85, loss: 0.108, val acc: 0.690 (best 0.704), test acc: 0.703 (best 0.693)\n",
      "In epoch 90, loss: 0.090, val acc: 0.690 (best 0.704), test acc: 0.700 (best 0.693)\n",
      "In epoch 95, loss: 0.075, val acc: 0.690 (best 0.704), test acc: 0.700 (best 0.693)\n"
     ]
    }
   ],
   "source": [
    "train(sg0, model1)"
   ]
  }
 ],
 "metadata": {
  "kernelspec": {
   "display_name": "Python 3.9.13 ('rwn')",
   "language": "python",
   "name": "python3"
  },
  "language_info": {
   "codemirror_mode": {
    "name": "ipython",
    "version": 3
   },
   "file_extension": ".py",
   "mimetype": "text/x-python",
   "name": "python",
   "nbconvert_exporter": "python",
   "pygments_lexer": "ipython3",
   "version": "3.9.13"
  },
  "orig_nbformat": 4,
  "vscode": {
   "interpreter": {
    "hash": "bb836cccf733935fd1764337262ee34c87745a1ee81a013fe4ba29a11dcb5f0c"
   }
  }
 },
 "nbformat": 4,
 "nbformat_minor": 2
}
