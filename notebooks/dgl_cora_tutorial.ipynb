{
 "cells": [
  {
   "cell_type": "markdown",
   "metadata": {},
   "source": [
    "Import Libraries"
   ]
  },
  {
   "cell_type": "code",
   "execution_count": 29,
   "metadata": {},
   "outputs": [],
   "source": [
    "import dgl\n",
    "import torch\n",
    "import torch.nn as nn\n",
    "import torch.nn.functional as F\n",
    "import dgl.data\n",
    "import networkx as nx"
   ]
  },
  {
   "cell_type": "markdown",
   "metadata": {},
   "source": [
    "Download Cora Dataset"
   ]
  },
  {
   "cell_type": "code",
   "execution_count": 30,
   "metadata": {},
   "outputs": [
    {
     "name": "stdout",
     "output_type": "stream",
     "text": [
      "  NumNodes: 2708\n",
      "  NumEdges: 10556\n",
      "  NumFeats: 1433\n",
      "  NumClasses: 7\n",
      "  NumTrainingSamples: 140\n",
      "  NumValidationSamples: 500\n",
      "  NumTestSamples: 1000\n",
      "Done loading data from cached files.\n",
      "Number of categories: 7\n"
     ]
    }
   ],
   "source": [
    "dataset = dgl.data.CoraGraphDataset()\n",
    "print('Number of categories:', dataset.num_classes)"
   ]
  },
  {
   "cell_type": "markdown",
   "metadata": {},
   "source": [
    "Get the DGL graph"
   ]
  },
  {
   "cell_type": "code",
   "execution_count": 31,
   "metadata": {},
   "outputs": [],
   "source": [
    "g = dataset[0]"
   ]
  },
  {
   "cell_type": "markdown",
   "metadata": {},
   "source": [
    "Convert to a networkx graph"
   ]
  },
  {
   "cell_type": "code",
   "execution_count": 32,
   "metadata": {},
   "outputs": [],
   "source": [
    "G = dgl.to_networkx(g)\n",
    "# nx.write_gexf(G,\"dgl_cora.gexf\")"
   ]
  },
  {
   "cell_type": "markdown",
   "metadata": {},
   "source": [
    "Get the ids of the largest connected component"
   ]
  },
  {
   "cell_type": "code",
   "execution_count": 33,
   "metadata": {},
   "outputs": [],
   "source": [
    "components = nx.strongly_connected_components(G)\n",
    "largest_component = max(components, key=len)"
   ]
  },
  {
   "cell_type": "markdown",
   "metadata": {},
   "source": [
    "Get the ids of the disconnected nodes"
   ]
  },
  {
   "cell_type": "code",
   "execution_count": 34,
   "metadata": {},
   "outputs": [],
   "source": [
    "disconnected_nodes = torch.LongTensor(list(set(G.nodes()).difference(largest_component)))"
   ]
  },
  {
   "cell_type": "markdown",
   "metadata": {},
   "source": [
    "remove disconnected nodes from DGL graph"
   ]
  },
  {
   "cell_type": "code",
   "execution_count": 35,
   "metadata": {},
   "outputs": [
    {
     "data": {
      "text/plain": [
       "2485"
      ]
     },
     "execution_count": 35,
     "metadata": {},
     "output_type": "execute_result"
    }
   ],
   "source": [
    "g.remove_nodes(disconnected_nodes)\n",
    "g.num_nodes()"
   ]
  },
  {
   "cell_type": "markdown",
   "metadata": {},
   "source": [
    "Save the largest connected component"
   ]
  },
  {
   "cell_type": "code",
   "execution_count": 54,
   "metadata": {},
   "outputs": [],
   "source": [
    "G_c = dgl.to_networkx(g)\n",
    "nx.write_gexf(G_c,\"dgl_cora_connected.gexf\")"
   ]
  },
  {
   "cell_type": "code",
   "execution_count": 36,
   "metadata": {},
   "outputs": [
    {
     "name": "stdout",
     "output_type": "stream",
     "text": [
      "Node features\n",
      "{'feat': tensor([[0., 0., 0.,  ..., 0., 0., 0.],\n",
      "        [0., 0., 0.,  ..., 0., 0., 0.],\n",
      "        [0., 0., 0.,  ..., 0., 0., 0.],\n",
      "        ...,\n",
      "        [0., 0., 0.,  ..., 0., 0., 0.],\n",
      "        [0., 0., 0.,  ..., 0., 0., 0.],\n",
      "        [0., 0., 0.,  ..., 0., 0., 0.]]), 'label': tensor([3, 4, 4,  ..., 0, 3, 3]), 'test_mask': tensor([False, False, False,  ...,  True,  True,  True]), 'val_mask': tensor([False, False, False,  ..., False, False, False]), 'train_mask': tensor([ True,  True,  True,  ..., False, False, False])}\n",
      "Edge features\n",
      "{}\n"
     ]
    }
   ],
   "source": [
    "print('Node features')\n",
    "print(g.ndata)\n",
    "print('Edge features')\n",
    "print(g.edata)"
   ]
  },
  {
   "cell_type": "markdown",
   "metadata": {},
   "source": [
    "METIS Partitioning"
   ]
  },
  {
   "cell_type": "code",
   "execution_count": 99,
   "metadata": {},
   "outputs": [
    {
     "name": "stdout",
     "output_type": "stream",
     "text": [
      "Convert a graph into a bidirected graph: 0.000 seconds, peak memory: 8.695 GB\n",
      "Construct multi-constraint weights: 0.000 seconds, peak memory: 8.695 GB\n",
      "Metis partitioning: 0.001 seconds, peak memory: 8.695 GB\n"
     ]
    },
    {
     "name": "stderr",
     "output_type": "stream",
     "text": [
      "[00:05:11] /opt/dgl/src/graph/transform/metis_partition_hetero.cc:87: Partition a graph with 2485 nodes and 10138 edges into 3 parts and get 416 edge cuts\n"
     ]
    }
   ],
   "source": [
    "parts = dgl.metis_partition_assignment(g,3)"
   ]
  },
  {
   "cell_type": "code",
   "execution_count": 106,
   "metadata": {},
   "outputs": [],
   "source": [
    "part_dict = {}\n",
    "for id,part_id in enumerate(parts):\n",
    "    part_dict[id] = part_id\n",
    "# for part in range(len(parts)):\n",
    "#     orig_ids = parts[part].ndata['orig_id']\n",
    "#     for id in orig_ids:\n",
    "#         part_dict[id.item()] = part\n"
   ]
  },
  {
   "cell_type": "code",
   "execution_count": 107,
   "metadata": {},
   "outputs": [],
   "source": [
    "nx.set_node_attributes(G_c,part_dict,name=\"partition\")\n",
    "nx.write_gexf(G_c,\"dgl_cora_connected_parts.gexf\")"
   ]
  },
  {
   "cell_type": "code",
   "execution_count": 91,
   "metadata": {},
   "outputs": [],
   "source": [
    "nx.write_gexf(dgl.to_networkx(parts[7]),\"part7.gexf\")"
   ]
  },
  {
   "cell_type": "code",
   "execution_count": 103,
   "metadata": {},
   "outputs": [],
   "source": [
    "import metis"
   ]
  },
  {
   "cell_type": "code",
   "execution_count": 104,
   "metadata": {},
   "outputs": [],
   "source": [
    "_, parts = metis.part_graph(G_c,3)"
   ]
  },
  {
   "cell_type": "code",
   "execution_count": 41,
   "metadata": {},
   "outputs": [
    {
     "name": "stdout",
     "output_type": "stream",
     "text": [
      "tensor(915)\n",
      "tensor(459)\n",
      "tensor(122)\n"
     ]
    }
   ],
   "source": [
    "print(sum(g.ndata['test_mask']==True))\n",
    "print(sum(g.ndata['val_mask']==True))\n",
    "print(sum(g.ndata['train_mask']==True))"
   ]
  },
  {
   "cell_type": "code",
   "execution_count": 42,
   "metadata": {},
   "outputs": [],
   "source": [
    "from dgl.nn import GraphConv\n",
    "\n",
    "class GCN(nn.Module):\n",
    "    def __init__(self, in_feats, h_feats, num_classes):\n",
    "        super(GCN, self).__init__()\n",
    "        self.conv1 = GraphConv(in_feats, h_feats)\n",
    "        self.conv2 = GraphConv(h_feats, num_classes)\n",
    "\n",
    "    def forward(self, g, in_feat):\n",
    "        h = self.conv1(g, in_feat)\n",
    "        h = F.relu(h)\n",
    "        h = self.conv2(g, h)\n",
    "        return h"
   ]
  },
  {
   "cell_type": "code",
   "execution_count": 53,
   "metadata": {},
   "outputs": [
    {
     "name": "stdout",
     "output_type": "stream",
     "text": [
      "In epoch 0, loss: 1.946, val acc: 0.146 (best 0.146), test acc: 0.162 (best 0.162)\n",
      "In epoch 5, loss: 1.901, val acc: 0.377 (best 0.486), test acc: 0.375 (best 0.486)\n",
      "In epoch 10, loss: 1.837, val acc: 0.270 (best 0.486), test acc: 0.274 (best 0.486)\n",
      "In epoch 15, loss: 1.755, val acc: 0.327 (best 0.486), test acc: 0.330 (best 0.486)\n",
      "In epoch 20, loss: 1.648, val acc: 0.412 (best 0.486), test acc: 0.445 (best 0.486)\n",
      "In epoch 25, loss: 1.525, val acc: 0.540 (best 0.540), test acc: 0.534 (best 0.534)\n",
      "In epoch 30, loss: 1.384, val acc: 0.619 (best 0.619), test acc: 0.630 (best 0.630)\n",
      "In epoch 35, loss: 1.232, val acc: 0.658 (best 0.658), test acc: 0.664 (best 0.659)\n",
      "In epoch 40, loss: 1.073, val acc: 0.684 (best 0.684), test acc: 0.683 (best 0.683)\n",
      "In epoch 45, loss: 0.914, val acc: 0.710 (best 0.710), test acc: 0.710 (best 0.710)\n",
      "In epoch 50, loss: 0.761, val acc: 0.728 (best 0.730), test acc: 0.726 (best 0.725)\n",
      "In epoch 55, loss: 0.623, val acc: 0.741 (best 0.741), test acc: 0.736 (best 0.733)\n",
      "In epoch 60, loss: 0.504, val acc: 0.749 (best 0.749), test acc: 0.740 (best 0.740)\n",
      "In epoch 65, loss: 0.407, val acc: 0.771 (best 0.771), test acc: 0.751 (best 0.751)\n",
      "In epoch 70, loss: 0.328, val acc: 0.776 (best 0.776), test acc: 0.754 (best 0.754)\n",
      "In epoch 75, loss: 0.266, val acc: 0.776 (best 0.778), test acc: 0.763 (best 0.758)\n",
      "In epoch 80, loss: 0.218, val acc: 0.782 (best 0.782), test acc: 0.770 (best 0.772)\n",
      "In epoch 85, loss: 0.180, val acc: 0.786 (best 0.789), test acc: 0.775 (best 0.773)\n",
      "In epoch 90, loss: 0.150, val acc: 0.789 (best 0.791), test acc: 0.774 (best 0.773)\n",
      "In epoch 95, loss: 0.126, val acc: 0.786 (best 0.791), test acc: 0.777 (best 0.773)\n"
     ]
    }
   ],
   "source": [
    "def train(g, model):\n",
    "    optimizer = torch.optim.Adam(model.parameters(), lr=0.01)\n",
    "    best_val_acc = 0\n",
    "    best_test_acc = 0\n",
    "\n",
    "    features = g.ndata['feat']\n",
    "    labels = g.ndata['label']\n",
    "    train_mask = g.ndata['train_mask']\n",
    "    val_mask = g.ndata['val_mask']\n",
    "    test_mask = g.ndata['test_mask']\n",
    "    for e in range(100):\n",
    "        # Forward\n",
    "        logits = model(g, features)\n",
    "\n",
    "        # Compute prediction\n",
    "        pred = logits.argmax(1)\n",
    "\n",
    "        # Compute loss\n",
    "        # Note that you should only compute the losses of the nodes in the training set.\n",
    "        loss = F.cross_entropy(logits[train_mask], labels[train_mask])\n",
    "\n",
    "        # Compute accuracy on training/validation/test\n",
    "        train_acc = (pred[train_mask] == labels[train_mask]).float().mean()\n",
    "        val_acc = (pred[val_mask] == labels[val_mask]).float().mean()\n",
    "        test_acc = (pred[test_mask] == labels[test_mask]).float().mean()\n",
    "\n",
    "        # Save the best validation accuracy and the corresponding test accuracy.\n",
    "        if best_val_acc < val_acc:\n",
    "            best_val_acc = val_acc\n",
    "            best_test_acc = test_acc\n",
    "\n",
    "        # Backward\n",
    "        optimizer.zero_grad()\n",
    "        loss.backward()\n",
    "        optimizer.step()\n",
    "\n",
    "        if e % 5 == 0:\n",
    "            print('In epoch {}, loss: {:.3f}, val acc: {:.3f} (best {:.3f}), test acc: {:.3f} (best {:.3f})'.format(\n",
    "                e, loss, val_acc, best_val_acc, test_acc, best_test_acc))\n",
    "model = GCN(g.ndata['feat'].shape[1], 16, dataset.num_classes)\n",
    "train(g, model)"
   ]
  }
 ],
 "metadata": {
  "kernelspec": {
   "display_name": "Python 3.9.13 ('rwn')",
   "language": "python",
   "name": "python3"
  },
  "language_info": {
   "codemirror_mode": {
    "name": "ipython",
    "version": 3
   },
   "file_extension": ".py",
   "mimetype": "text/x-python",
   "name": "python",
   "nbconvert_exporter": "python",
   "pygments_lexer": "ipython3",
   "version": "3.9.13"
  },
  "orig_nbformat": 4,
  "vscode": {
   "interpreter": {
    "hash": "bb836cccf733935fd1764337262ee34c87745a1ee81a013fe4ba29a11dcb5f0c"
   }
  }
 },
 "nbformat": 4,
 "nbformat_minor": 2
}
